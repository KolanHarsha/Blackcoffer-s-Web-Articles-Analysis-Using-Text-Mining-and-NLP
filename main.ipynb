{
 "cells": [
  {
   "cell_type": "markdown",
   "id": "66a3dee4",
   "metadata": {},
   "source": [
    "## Text-mining and NLP"
   ]
  },
  {
   "cell_type": "code",
   "execution_count": 8,
   "id": "2b831999",
   "metadata": {},
   "outputs": [],
   "source": [
    "import nltk\n",
    "from nltk.tokenize import word_tokenize, sent_tokenize"
   ]
  },
  {
   "cell_type": "markdown",
   "id": "53d6827d",
   "metadata": {},
   "source": [
    "Creating a list of stop-words"
   ]
  },
  {
   "cell_type": "code",
   "execution_count": 9,
   "id": "2105de9e",
   "metadata": {},
   "outputs": [],
   "source": [
    "import os\n",
    "\n",
    "# Specify the directory containing the text files\n",
    "folder_path = r\"C:\\Users\\STSC\\Desktop\\Data Analytics Project\\StopWords\"\n",
    "stop_words=[]\n",
    "# Iterate over files in the directory\n",
    "for filename in os.listdir(folder_path):\n",
    "    if filename.endswith('.txt'):  # Consider only text files\n",
    "        file_path = os.path.join(folder_path, filename)\n",
    "        with open(file_path, 'r') as file:\n",
    "            # Read the content of each file\n",
    "            file_content = file.readlines()\n",
    "        file_data=[line.split('|')[0].strip() for line in file_content]\n",
    "        stop_words.extend(file_data)"
   ]
  },
  {
   "cell_type": "code",
   "execution_count": 10,
   "id": "c202bb32",
   "metadata": {},
   "outputs": [
    {
     "name": "stdout",
     "output_type": "stream",
     "text": [
      "14107\n"
     ]
    }
   ],
   "source": [
    "print(len(stop_words))"
   ]
  },
  {
   "cell_type": "code",
   "execution_count": 11,
   "id": "c2455a05",
   "metadata": {},
   "outputs": [],
   "source": [
    "stopwords=set(stop_words)"
   ]
  },
  {
   "cell_type": "code",
   "execution_count": 12,
   "id": "e9cccc4a",
   "metadata": {},
   "outputs": [
    {
     "name": "stdout",
     "output_type": "stream",
     "text": [
      "12902\n"
     ]
    }
   ],
   "source": [
    "print(len(stopwords))"
   ]
  },
  {
   "cell_type": "markdown",
   "id": "3cd76ab1",
   "metadata": {},
   "source": [
    "Creating a list of positive and a list of negative words"
   ]
  },
  {
   "cell_type": "code",
   "execution_count": 13,
   "id": "ababa480",
   "metadata": {},
   "outputs": [],
   "source": [
    "file_path=r\"C:\\Users\\STSC\\Desktop\\Data Analytics Project\\positive-words.txt\"\n",
    "with open(file_path, 'r') as file:\n",
    "            # Read the content of each file\n",
    "        file_content = file.readlines()\n",
    "data=[line.split('|')[0].strip() for line in file_content]\n",
    "# Positive words list should not contain any word that match a word in the stopwords list\n",
    "positivewords=[]\n",
    "for i in data:\n",
    "    if i not in stopwords:\n",
    "        positivewords.append(i)"
   ]
  },
  {
   "cell_type": "code",
   "execution_count": 14,
   "id": "c5293d38",
   "metadata": {},
   "outputs": [
    {
     "name": "stdout",
     "output_type": "stream",
     "text": [
      "1988\n"
     ]
    }
   ],
   "source": [
    "print(len(positivewords))"
   ]
  },
  {
   "cell_type": "code",
   "execution_count": 15,
   "id": "d94b64be",
   "metadata": {},
   "outputs": [],
   "source": [
    "file_path=r\"C:\\Users\\STSC\\Desktop\\Data Analytics Project\\negative-words.txt\"\n",
    "with open(file_path, 'r') as file:\n",
    "            # Read the content of each file\n",
    "        file_content = file.readlines()\n",
    "data=[line.split('|')[0].strip() for line in file_content]\n",
    "# Negative words list should not contain any word that match a word in the stopwords list\n",
    "negativewords=[]\n",
    "for i in data:\n",
    "    if i not in stopwords:\n",
    "        negativewords.append(i)"
   ]
  },
  {
   "cell_type": "code",
   "execution_count": 16,
   "id": "f47b8d4c",
   "metadata": {
    "scrolled": true
   },
   "outputs": [
    {
     "name": "stdout",
     "output_type": "stream",
     "text": [
      "4779\n"
     ]
    }
   ],
   "source": [
    "print(len(negativewords))"
   ]
  },
  {
   "cell_type": "code",
   "execution_count": 17,
   "id": "5258fd01",
   "metadata": {},
   "outputs": [],
   "source": [
    "punctuations=['?',',','.','!',':','-','@','#','$','%','^','&','*','(',')','+']"
   ]
  },
  {
   "cell_type": "code",
   "execution_count": 18,
   "id": "29b2cc74",
   "metadata": {
    "scrolled": true
   },
   "outputs": [
    {
     "name": "stdout",
     "output_type": "stream",
     "text": [
      "['We have seen a huge development and dependence of people on technology in recent years. We have also seen the development of AI and ChatGPT in recent years. So it is a normal thing that we will become fully dependent on technology by 2040. Information technology will be a major power for all the developing nations. As a member of a developing nation, India is rapidly growing its IT base. It has also grown some IT cities which will be the major control centres for Information technology by 2040.', 'Rising IT cities', 'Noida:- Noida in Uttar Pradesh near New Delhi is an emerging IT sector now. Many large companies like Google, Microsoft, IBM, Infosys and others have set up their companies here. Noida has a market base of billions of dollars and is doing a great job of boosting the national economy. The establishment of so many software companies has made Noida an information technology hub.', 'Gurgaon:- Gurgaon in Haryana is also an emerging IT hub. Many large companies like Google, Microsoft, IBM, Infosys and others have set up their companies here. Gurgaon has a market base of billions of dollars and is doing a great job of boosting the national economy.', 'Bengaluru:- Bengaluru is called as the IT hub of India. It is also a smart city. Many large companies like Google, Microsoft, IBM, Infosys and others have set up their companies here. Bengaluru has a market base of billions of dollars and is doing a great job of boosting the national economy.', 'Kolkata:- Kolkata in West Bengal is an emerging major IT hub. The new Kolkata i.e. Saltlake Sector\\xa0 5, New town, Rajarhat area of Kolkata is a major IT hub. The government is giving the software companies land at almost free of cost to set up the companies there. Many large companies like Google, Microsoft, IBM, Infosys and others have set up their companies here. Kolkata has a market base of billions of dollars and is doing a great job of boosting the national economy.', 'Impact on Economy', 'There is a huge impact of the rising IT cities on our economy. Some of the effects are-', 'Demand:- The rising IT cities will greatly help to boost our economy. These will create a huge demand for raw materials. The products when ready will be a huge demand for the people too.', 'Supply:-– Supply means the fulfilment of demand. In a large and highly populous country like India, there is always a demand for finished products. If more IT cities do not develop, the companies cannot fulfil the needs and desires of the people of a populous country like India. As IT cities develop, more IT companies will come, which will supply more and more finished IT products to our people.', 'Market: A market is a place where different economic agents like buyers and sellers interact with one another. In a populous country like India, there is a huge market. As IT cities will grow, more and more IT companies will come from across the world and more will the competition in the market increase. This will help consumers as they will get more and more differentiated products and the market will also run smoothly. A competitive market is always good and healthy. We can safely assume that our oligopoly market will surely tend to reach a perfectly competitive market by the year 2040.', 'Revenue:- As the market increases, more revenue will be generated. Now at present, the IT revenue of India is 245 million dollars, 19 million dollars more than the financial year 2022. If IT cities grow, then more companies will invest which leads to an increase in the IT market which in turn generates more revenue in India. We can expect that the IT revenue of India will cross or nearly tend to reach 10 billion dollars by 2040.', 'Impact on Environment', 'The rising IT cities will create a huge impact on the environment, the maximum of which will be harmful effects. The impact of rising IT cities on the environment is-', 'Deforestation:- There will be cutting of trees in huge numbers to make the building of the IT companies which will cause great harm to the environment. The cutting of trees on a large scale will also cause mass degradation of forests.', 'More carbon footprint:- The IT companies will generate more carbon footprint in the atmosphere. South Asian countries including India are known for their lower carbon footprint. But if the IT sector grows this way then we will also be at the same pace of generation of carbon footprint by 2040.', 'Death of birds:- The cell phone and mobile towers by the telecom companies caused the death of birds which caused a great imbalance in the ecosystem. The number of sparrows has been reduced due to this phenomenon. If this goes on we can see the extinction of many bird species by 2040.', 'Impact on infrastructure', 'There are many contributions of the IT cities on infrastructure.\\xa0 They are-', 'Transportation:- The rising IT cities need an excellent transport system for the supply of raw materials and delivery of the finished products into the market. So the transportation system develops in that area. So we have an excellent transport system by 2040.', 'Need for a public transport system:- There is a need for a public transport system in the IT cities. As the IT cities are a source of employment and a huge population reside in these areas, there is an adequate need for public transport systems like buses, taxis etc. We hope that it will be improved by 2040.', 'Water supply:- As a huge number of people reside in the IT cities there is a need for adequate water supply to fulfil the needs of people as well as for industries. This will help us to find many new methods of water supply and conservation by 2040.', 'Electricity:- Electric supply is the lifeline of the sector. Without an electric supply, no machines will run and not even the IT cities will flourish. If the IT cities flourish this way, we going to have an excellent electric supply by 2040.', 'Healthcare:- As a large number of people reside in IT cities, there is a need for proper health infrastructure and healthcare facilities for the people. So with the growth of IT cities, our healthcare system will also improve by 2040.', 'Education:- Education is the primary key or core of any nation. There must be proper education and training centres in those IT cities to fulfil the people’s demands.\\xa0 So with the growth of IT cities, the education system will also develop by 2040. Our education is also going to be skill-oriented.', 'Impact on city life', 'With the growth of IT cities, more people will get jobs and will earn more. So the purchasing power of the people will increase. People will lead a better lifestyle. They will buy things of good brand value. The tastes and preferences of people will also change. The human development index is going to increase. People will buy good quality food and good quality cars. So the food, automobile and many other industries are going to increase. So there will be a huge impact on city life by 2040.']\n",
      "['Throughout history, from the industrial revolution in the 18th century through the development of the Internet, technology has been the primary driver of societal change. It has aided in turning cities into smart urban centers that provide more opportunities and improvements in quality of life. It continues to play a crucial role in altering the world. Cities are acting as engines of economic growth and modernization as they become more technologically advanced, considerably accelerating the trajectory of global development. Technology has had nothing short of revolutionary effects on Indian cities, ushering in a new era of change and advancement. India’s metropolitan centers\\xa0have embraced technology in ways that are transforming the fundamental fabric of urban life, from infrastructure to governance and beyond, as the world rushes into the digital age.', 'India’s cities must play a crucial part if the nation is to develop into a worldwide economic powerhouse. One of the world’s economies with the greatest growth rates, India aims to reach US$5 trillion in GDP by 2026 and US$40 trillion by 2047, the year it will celebrate 100 years of independence. The idea of smart cities is one of technology’s most obvious effects. Indian cities are progressively implementing cutting-edge technologies to build effective, linked urban landscapes. To improve the quality of life for people, smart cities use data analytics, the Internet of Things (IoT), and automation. Smart traffic management solutions, for instance, improve traffic flow while lowering congestion and air pollution. Sensor-based garbage collection improves waste management, resulting in cleaner and healthier settings.', 'To become a major player in the world economy, however, several steps are being followed. A crucial one relates to India’s ongoing urbanization development. Between 1970 and 2018, the population of Indian cities is predicted to have expanded from 109 million to 460 million, nearly a fourfold increase.', 'The nation, which already has the second-largest urban population in the world, is predicted to have a 50% urban population share by 2050 after adding 416 million residents to its cities.', '4 Cities are the centers of economic growth and innovation because they are home to innovative businesses, better-paying employment, and important institutions. (Kolkata, Delhi, Mumbai, Chennai)', 'Cities foster increased productivity through several routes, generally known as agglomeration economies, by permitting close contact between businesses and employees. The theory’s main consequence is that businesses in bigger and/or denser cities should be more productive. In the year 2035, urbanization has had a significant impact on both India and the rest of the world. India now boasts the third-largest economy in the world, only behind China and the United States. In this new period, China has already exceeded the USA in terms of economic size, while India has surpassed Japan to claim a higher place. Although India has 675 million people living in urbanized cities, China has a stunning one billion people living in urbanized cities.', 'Urbanization has both advantages and disadvantages, including financial expenditures. Although city growth can result in better possibilities and a higher standard of living, it also presents difficulties and issues. Rapid urbanization has the potential to deplete resources, harm the environment, and worsen socioeconomic inequities. Depending on how well these problems are solved, urbanization will either have a favorable or negative overall effect.', 'With more than half of the world’s population now living in cities, urbanization has emerged as a major force for development. But it also presents fresh difficulties and chances, reshaping the planet and our way of life in unexpected ways. A future where artificial intelligence (AI) is increasingly pervasive and has an impact on many parts of our daily lives has been ushered in by this shift. Urbanization has improved living conditions and economic opportunities, but it also calls for careful management and sustainable practices to guarantee a bright and prosperous future for everybody.', 'Similarly, to this, a nation’s population and demography can contribute significantly to its growth. India’s rapidly rising working-age population will be in its favor, and the nation is expected to host some of the fastest-growing cities in the world in the years to come. The West is also taken aback by the annual GDP growth rate of the cities that are predicted to top the charts. Aside from a few towns in Southeast Asia, all of the cities are now from the Asian bloc, which is primarily controlled by India and China. Bangalore, which has had an enormous 8.5 percent GDP growth, is in first place, followed by Dhaka, Mumbai, and Delhi. Bangalore’s startup culture and enormous skill pool set it apart from other cities. Bangalore itself is probably going to be the future Silicon Valley of Asia and the entire world. It currently creates a tremendous number of startups. It has the potential to rank among the world’s most urbanized cities. These cities will outpace the global average yearly GDP growth rate, which is expected to be about 2.5%, by a sizeable margin.', 'Undoubtedly, nations will expand and cities will modernize to meet societal demands. Urban city growth has mostly been attributed to rural-to-urban migration. However, the future will be better for us and our offspring if we can maintain a balance between the environment and sustainable growth. We are being impacted by climate change, which is real. In large areas, the effects of climate change will harm the environment through prolonged heat waves, more irregular rainfall, drought, and flooding.', 'As we can see in Pakistan, China, and Europe. Europe as a whole has seen heat waves that have disrupted society, and China is currently dealing with extreme heat waves that are drying up the rivers and making it impossible to produce hydroelectricity. In Pakistan, there were an unusually high number of floods. Out of 160 districts, 110 are underwater, representing a loss of roughly $10 billion.\\xa0 Rural agrarian and pastoralist types of society, which heavily rely on the environment, are severely impacted by these effects. Climate-driven migration is projected to rise as livelihoods all around the world are affected more and more by climate change.', 'The broader prospects of regional environments are likewise impacted by urbanization. Large increases in the amount of air pollution, precipitation, and the frequency of days with thunderstorms are also observed in areas that are downwind from large industrial complexes. Urban regions produce more precipitation, but they also have less water filtration, which lowers the water tables. Urban areas consume significantly more energy than rural communities do for heating, cooking, transportation, and electricity. For instance, today’s metropolitan populations have more cars than rural ones.', 'Due to technology, both healthcare and education are going through significant changes. By extending access to high-quality education outside the walls of traditional classrooms, online education platforms are democratizing learning. Remote places are now being reached by telemedicine, which allows doctors to diagnose and treat patients at a distance and close healthcare gaps. These advancements are essential in a large, varied nation like India where achieving fair access to healthcare and education has historically proven difficult.', 'The effect of technology on job trends is another factor to take into account. Technology opens up new possibilities, but it also challenges established employment positions, raising concerns about job displacement and the need for skill upgrading. To ensure that no one is left behind in the wake of these changes, it is essential to strike a balance between technological advancement and social welfare.', 'Technology also stimulates economic development and entrepreneurship. A wider audience can now be reached by small enterprises thanks to the growth of digital platforms, promoting economic inclusion. The gig economy is altering established labor patterns and creating new employment opportunities as a result of technology-driven platforms. In tech centers like Bengaluru, Hyderabad, and Pune, startups are thriving and fostering innovation in a variety of industries.', 'However, the rapid advancement of technology also creates problems and worries. Urbanization and technology improvements have given rise to problems like the digital divide and data privacy worries. Technology benefits major cities, while rural populations struggle to get even the most basic digital services, escalating disparities. Additionally, concerns regarding data security and privacy are raised by our growing reliance on technology. Protecting personal information becomes more important as more areas of urban life are digitalized.', 'In conclusion, technology is permanently changing Indian cities, transforming them into vibrant, connected, and effective urban hubs. Due to technology breakthroughs, smart cities, e-governance, education, healthcare, and entrepreneurship are all seeing substantial improvements. These adjustments, though, come with obligations. To close the digital divide, safeguard the privacy of citizen data, and guarantee that the advantages of technology are dispersed fairly, policymakers must collaborate. India’s cities have the ability to lead the way in innovation, progress, and inclusivity in the twenty-first century if they can fully realize their potential and overcome their issues.']\n"
     ]
    }
   ],
   "source": [
    "count=0\n",
    "for key,value in BC.items():\n",
    "    if count<2:\n",
    "        print(value)\n",
    "        count+=1\n",
    "    else:\n",
    "        break\n",
    "    "
   ]
  },
  {
   "cell_type": "markdown",
   "id": "33a46e40",
   "metadata": {},
   "source": [
    "Defining Function to calculate positive score"
   ]
  },
  {
   "cell_type": "code",
   "execution_count": 19,
   "id": "46cf797d",
   "metadata": {},
   "outputs": [],
   "source": [
    "def positive_score(x):\n",
    "    count=0\n",
    "    for i in x:\n",
    "        if i in positivewords:\n",
    "            count=count+1\n",
    "    return count"
   ]
  },
  {
   "cell_type": "markdown",
   "id": "c7b279bc",
   "metadata": {},
   "source": [
    "Defining Function to calculate negative score"
   ]
  },
  {
   "cell_type": "code",
   "execution_count": 20,
   "id": "545db5af",
   "metadata": {},
   "outputs": [],
   "source": [
    "def negative_score(x):\n",
    "    count=0\n",
    "    for i in x:\n",
    "        if i in negativewords:\n",
    "            count=count+1\n",
    "    return count"
   ]
  },
  {
   "cell_type": "markdown",
   "id": "aedb7620",
   "metadata": {},
   "source": [
    "Defining Function to calculate Polarity Score"
   ]
  },
  {
   "cell_type": "code",
   "execution_count": 21,
   "id": "d31b71ce",
   "metadata": {},
   "outputs": [],
   "source": [
    "def polarity_score(x,y):\n",
    "    z = (x - y)/ ((x + y) + 0.000001)\n",
    "    return z"
   ]
  },
  {
   "cell_type": "markdown",
   "id": "1b656ca1",
   "metadata": {},
   "source": [
    "Defining Function to calculate Subjective Score"
   ]
  },
  {
   "cell_type": "code",
   "execution_count": 22,
   "id": "2e251649",
   "metadata": {},
   "outputs": [],
   "source": [
    "def subjective_score(x,y,l):\n",
    "    z=(x + y)/ ((l) + 0.000001)\n",
    "    return z"
   ]
  },
  {
   "cell_type": "markdown",
   "id": "15a8fbcc",
   "metadata": {},
   "source": [
    "Defining Function to calculate Number of Syllables"
   ]
  },
  {
   "cell_type": "code",
   "execution_count": 23,
   "id": "78265e2a",
   "metadata": {},
   "outputs": [],
   "source": [
    "import re\n",
    "\n",
    "def count_syllables(x):\n",
    "    # Define a regular expression pattern to match vowels\n",
    "    vowel_pattern = re.compile(r'[aeiouAEIOU]+')\n",
    "    # Iterate through each word and count syllables\n",
    "    y = []\n",
    "    for i in x:\n",
    "        # Handling exceptions for words ending with \"es\" or \"ed\"\n",
    "        if i.endswith((\"es\", \"ed\")):\n",
    "            syllable_count = len(re.findall(vowel_pattern, i[:-2]))\n",
    "        else:\n",
    "            syllable_count = len(re.findall(vowel_pattern, i))\n",
    "        y.append(syllable_count)\n",
    "    syllable_counts=0\n",
    "    for j in range(0,len(y)):\n",
    "        syllable_counts=y[j]+syllable_counts\n",
    "        \n",
    "    return syllable_counts"
   ]
  },
  {
   "cell_type": "markdown",
   "id": "09e7ddcc",
   "metadata": {},
   "source": [
    "Defining Function to calculate Number of complex words"
   ]
  },
  {
   "cell_type": "code",
   "execution_count": 24,
   "id": "d8cbbfa1",
   "metadata": {},
   "outputs": [],
   "source": [
    "import re\n",
    "\n",
    "def complex_count(x):\n",
    "    # Define a regular expression pattern to match vowels\n",
    "    vowel_pattern = re.compile(r'[aeiouAEIOU]+')\n",
    "    # Iterate through each word and count syllables\n",
    "    y = []\n",
    "    for i in x:\n",
    "        # Handling exceptions for words ending with \"es\" or \"ed\"\n",
    "        if i.endswith((\"es\", \"ed\")):\n",
    "            syllable_count = len(re.findall(vowel_pattern, i[:-2]))\n",
    "        else:\n",
    "            syllable_count = len(re.findall(vowel_pattern, i))\n",
    "        y.append(syllable_count)\n",
    "    complex_counts = 0\n",
    "    for j in range(0, len(y)):\n",
    "        if y[j] > 2:\n",
    "            complex_counts += y[j]  # Accumulate syllable counts greater than 2\n",
    "        \n",
    "    return complex_counts\n"
   ]
  },
  {
   "cell_type": "markdown",
   "id": "0413f041",
   "metadata": {},
   "source": [
    "Defining function to calculate number of sentences"
   ]
  },
  {
   "cell_type": "code",
   "execution_count": 25,
   "id": "796b61f5",
   "metadata": {},
   "outputs": [],
   "source": [
    "def number_of_sentences(x):\n",
    "    count=0\n",
    "    for i in x:\n",
    "        if i=='.':\n",
    "            count=count+1\n",
    "    return count"
   ]
  },
  {
   "cell_type": "code",
   "execution_count": 26,
   "id": "f1b291ec",
   "metadata": {
    "scrolled": true
   },
   "outputs": [],
   "source": [
    "# Create an empty list to store dictionaries\n",
    "data = []\n",
    "\n",
    "for key, value in BC.items():          # BC={A:[a,b,c]}\n",
    "    words = []\n",
    "    for i in value:\n",
    "        w = [[x for x in word_tokenize(sent)] for sent in sent_tokenize(i)]\n",
    "        wordlist = sum(w, [])\n",
    "        words.extend(wordlist)\n",
    "    # Number of sentences\n",
    "    Number_of_Sentences=number_of_sentences(words)\n",
    "    # Removing stop words and punctuations\n",
    "    final_words = [i for i in words if i not in stopwords and i not in punctuations]\n",
    "    # Calculate scores\n",
    "    Positive_Score = positive_score(final_words)\n",
    "    Negative_Score = negative_score(final_words)\n",
    "    Polarity_Score = polarity_score(Positive_Score, Negative_Score)\n",
    "    Subjective_Score = subjective_score(Positive_Score, Negative_Score, len(final_words))\n",
    "    # Calculate total number of syllables\n",
    "    Syllable_Count=count_syllables(final_words)\n",
    "    Complex_Count=complex_count(final_words)\n",
    "    Number_of_Words=len(final_words)\n",
    "    Average_Sentence_Length=Number_of_Words/Number_of_Sentences\n",
    "    Percentage_of_Complex_words= Complex_Count/Number_of_Words\n",
    "    Fog_Index = 0.4 * (Average_Sentence_Length + Percentage_of_Complex_words)\n",
    "    # Create a dictionary with the scores\n",
    "    score_dict = {\n",
    "        'Number_of_Sentences':Number_of_Sentences,\n",
    "        'Number_of_Words':Number_of_Words,\n",
    "        'Average_Sentence_Length':Average_Sentence_Length,\n",
    "        'Syllable_Count':Syllable_Count,\n",
    "        'Complex_Count':Complex_Count,\n",
    "        'Percentage_of_Complex_words':Percentage_of_Complex_words,\n",
    "        'Fog_Index':Fog_Index,\n",
    "        'Positive_Score': Positive_Score,\n",
    "        'Negative_Score': Negative_Score,\n",
    "        'Polarity_Score': Polarity_Score,\n",
    "        'Subjective_Score': Subjective_Score\n",
    "    }\n",
    "    \n",
    "    # Append the dictionary to the data list\n",
    "    data.append(score_dict)\n"
   ]
  },
  {
   "cell_type": "code",
   "execution_count": 27,
   "id": "99bb384f",
   "metadata": {
    "scrolled": true
   },
   "outputs": [
    {
     "data": {
      "text/html": [
       "<div>\n",
       "<style scoped>\n",
       "    .dataframe tbody tr th:only-of-type {\n",
       "        vertical-align: middle;\n",
       "    }\n",
       "\n",
       "    .dataframe tbody tr th {\n",
       "        vertical-align: top;\n",
       "    }\n",
       "\n",
       "    .dataframe thead th {\n",
       "        text-align: right;\n",
       "    }\n",
       "</style>\n",
       "<table border=\"1\" class=\"dataframe\">\n",
       "  <thead>\n",
       "    <tr style=\"text-align: right;\">\n",
       "      <th></th>\n",
       "      <th>Number_of_Sentences</th>\n",
       "      <th>Number_of_Words</th>\n",
       "      <th>Average_Sentence_Length</th>\n",
       "      <th>Syllable_Count</th>\n",
       "      <th>Complex_Count</th>\n",
       "      <th>Percentage_of_Complex_words</th>\n",
       "      <th>Fog_Index</th>\n",
       "      <th>Positive_Score</th>\n",
       "      <th>Negative_Score</th>\n",
       "      <th>Polarity_Score</th>\n",
       "      <th>Subjective_Score</th>\n",
       "    </tr>\n",
       "  </thead>\n",
       "  <tbody>\n",
       "    <tr>\n",
       "      <th>0</th>\n",
       "      <td>77</td>\n",
       "      <td>620</td>\n",
       "      <td>8.051948</td>\n",
       "      <td>1228</td>\n",
       "      <td>521</td>\n",
       "      <td>0.840323</td>\n",
       "      <td>3.556908</td>\n",
       "      <td>33</td>\n",
       "      <td>5</td>\n",
       "      <td>0.736842</td>\n",
       "      <td>0.061290</td>\n",
       "    </tr>\n",
       "    <tr>\n",
       "      <th>1</th>\n",
       "      <td>79</td>\n",
       "      <td>841</td>\n",
       "      <td>10.645570</td>\n",
       "      <td>1953</td>\n",
       "      <td>1151</td>\n",
       "      <td>1.368609</td>\n",
       "      <td>4.805671</td>\n",
       "      <td>58</td>\n",
       "      <td>31</td>\n",
       "      <td>0.303371</td>\n",
       "      <td>0.105826</td>\n",
       "    </tr>\n",
       "    <tr>\n",
       "      <th>2</th>\n",
       "      <td>56</td>\n",
       "      <td>662</td>\n",
       "      <td>11.821429</td>\n",
       "      <td>1734</td>\n",
       "      <td>1210</td>\n",
       "      <td>1.827795</td>\n",
       "      <td>5.459689</td>\n",
       "      <td>37</td>\n",
       "      <td>23</td>\n",
       "      <td>0.233333</td>\n",
       "      <td>0.090634</td>\n",
       "    </tr>\n",
       "    <tr>\n",
       "      <th>3</th>\n",
       "      <td>51</td>\n",
       "      <td>635</td>\n",
       "      <td>12.450980</td>\n",
       "      <td>1585</td>\n",
       "      <td>1077</td>\n",
       "      <td>1.696063</td>\n",
       "      <td>5.658817</td>\n",
       "      <td>36</td>\n",
       "      <td>71</td>\n",
       "      <td>-0.327103</td>\n",
       "      <td>0.168504</td>\n",
       "    </tr>\n",
       "    <tr>\n",
       "      <th>4</th>\n",
       "      <td>38</td>\n",
       "      <td>365</td>\n",
       "      <td>9.605263</td>\n",
       "      <td>852</td>\n",
       "      <td>471</td>\n",
       "      <td>1.290411</td>\n",
       "      <td>4.358270</td>\n",
       "      <td>21</td>\n",
       "      <td>8</td>\n",
       "      <td>0.448276</td>\n",
       "      <td>0.079452</td>\n",
       "    </tr>\n",
       "  </tbody>\n",
       "</table>\n",
       "</div>"
      ],
      "text/plain": [
       "   Number_of_Sentences  Number_of_Words  Average_Sentence_Length  \\\n",
       "0                   77              620                 8.051948   \n",
       "1                   79              841                10.645570   \n",
       "2                   56              662                11.821429   \n",
       "3                   51              635                12.450980   \n",
       "4                   38              365                 9.605263   \n",
       "\n",
       "   Syllable_Count  Complex_Count  Percentage_of_Complex_words  Fog_Index  \\\n",
       "0            1228            521                     0.840323   3.556908   \n",
       "1            1953           1151                     1.368609   4.805671   \n",
       "2            1734           1210                     1.827795   5.459689   \n",
       "3            1585           1077                     1.696063   5.658817   \n",
       "4             852            471                     1.290411   4.358270   \n",
       "\n",
       "   Positive_Score  Negative_Score  Polarity_Score  Subjective_Score  \n",
       "0              33               5        0.736842          0.061290  \n",
       "1              58              31        0.303371          0.105826  \n",
       "2              37              23        0.233333          0.090634  \n",
       "3              36              71       -0.327103          0.168504  \n",
       "4              21               8        0.448276          0.079452  "
      ]
     },
     "execution_count": 27,
     "metadata": {},
     "output_type": "execute_result"
    }
   ],
   "source": [
    "# Create a DataFrame from the list of dictionaries\n",
    "df2 = pd.DataFrame(data)\n",
    "df2.head()"
   ]
  },
  {
   "cell_type": "code",
   "execution_count": 28,
   "id": "f28c4a72",
   "metadata": {},
   "outputs": [],
   "source": [
    "final_df=pd.concat([df,df2],axis=1)"
   ]
  },
  {
   "cell_type": "code",
   "execution_count": 29,
   "id": "2989535b",
   "metadata": {},
   "outputs": [
    {
     "data": {
      "text/html": [
       "<div>\n",
       "<style scoped>\n",
       "    .dataframe tbody tr th:only-of-type {\n",
       "        vertical-align: middle;\n",
       "    }\n",
       "\n",
       "    .dataframe tbody tr th {\n",
       "        vertical-align: top;\n",
       "    }\n",
       "\n",
       "    .dataframe thead th {\n",
       "        text-align: right;\n",
       "    }\n",
       "</style>\n",
       "<table border=\"1\" class=\"dataframe\">\n",
       "  <thead>\n",
       "    <tr style=\"text-align: right;\">\n",
       "      <th></th>\n",
       "      <th>URL_ID</th>\n",
       "      <th>URL</th>\n",
       "      <th>Number_of_Sentences</th>\n",
       "      <th>Number_of_Words</th>\n",
       "      <th>Average_Sentence_Length</th>\n",
       "      <th>Syllable_Count</th>\n",
       "      <th>Complex_Count</th>\n",
       "      <th>Percentage_of_Complex_words</th>\n",
       "      <th>Fog_Index</th>\n",
       "      <th>Positive_Score</th>\n",
       "      <th>Negative_Score</th>\n",
       "      <th>Polarity_Score</th>\n",
       "      <th>Subjective_Score</th>\n",
       "    </tr>\n",
       "  </thead>\n",
       "  <tbody>\n",
       "    <tr>\n",
       "      <th>0</th>\n",
       "      <td>blackassign0001</td>\n",
       "      <td>https://insights.blackcoffer.com/rising-it-cit...</td>\n",
       "      <td>77</td>\n",
       "      <td>620</td>\n",
       "      <td>8.051948</td>\n",
       "      <td>1228</td>\n",
       "      <td>521</td>\n",
       "      <td>0.840323</td>\n",
       "      <td>3.556908</td>\n",
       "      <td>33</td>\n",
       "      <td>5</td>\n",
       "      <td>0.736842</td>\n",
       "      <td>0.061290</td>\n",
       "    </tr>\n",
       "    <tr>\n",
       "      <th>1</th>\n",
       "      <td>blackassign0002</td>\n",
       "      <td>https://insights.blackcoffer.com/rising-it-cit...</td>\n",
       "      <td>79</td>\n",
       "      <td>841</td>\n",
       "      <td>10.645570</td>\n",
       "      <td>1953</td>\n",
       "      <td>1151</td>\n",
       "      <td>1.368609</td>\n",
       "      <td>4.805671</td>\n",
       "      <td>58</td>\n",
       "      <td>31</td>\n",
       "      <td>0.303371</td>\n",
       "      <td>0.105826</td>\n",
       "    </tr>\n",
       "    <tr>\n",
       "      <th>2</th>\n",
       "      <td>blackassign0003</td>\n",
       "      <td>https://insights.blackcoffer.com/internet-dema...</td>\n",
       "      <td>56</td>\n",
       "      <td>662</td>\n",
       "      <td>11.821429</td>\n",
       "      <td>1734</td>\n",
       "      <td>1210</td>\n",
       "      <td>1.827795</td>\n",
       "      <td>5.459689</td>\n",
       "      <td>37</td>\n",
       "      <td>23</td>\n",
       "      <td>0.233333</td>\n",
       "      <td>0.090634</td>\n",
       "    </tr>\n",
       "    <tr>\n",
       "      <th>3</th>\n",
       "      <td>blackassign0004</td>\n",
       "      <td>https://insights.blackcoffer.com/rise-of-cyber...</td>\n",
       "      <td>51</td>\n",
       "      <td>635</td>\n",
       "      <td>12.450980</td>\n",
       "      <td>1585</td>\n",
       "      <td>1077</td>\n",
       "      <td>1.696063</td>\n",
       "      <td>5.658817</td>\n",
       "      <td>36</td>\n",
       "      <td>71</td>\n",
       "      <td>-0.327103</td>\n",
       "      <td>0.168504</td>\n",
       "    </tr>\n",
       "    <tr>\n",
       "      <th>4</th>\n",
       "      <td>blackassign0005</td>\n",
       "      <td>https://insights.blackcoffer.com/ott-platform-...</td>\n",
       "      <td>38</td>\n",
       "      <td>365</td>\n",
       "      <td>9.605263</td>\n",
       "      <td>852</td>\n",
       "      <td>471</td>\n",
       "      <td>1.290411</td>\n",
       "      <td>4.358270</td>\n",
       "      <td>21</td>\n",
       "      <td>8</td>\n",
       "      <td>0.448276</td>\n",
       "      <td>0.079452</td>\n",
       "    </tr>\n",
       "  </tbody>\n",
       "</table>\n",
       "</div>"
      ],
      "text/plain": [
       "            URL_ID                                                URL  \\\n",
       "0  blackassign0001  https://insights.blackcoffer.com/rising-it-cit...   \n",
       "1  blackassign0002  https://insights.blackcoffer.com/rising-it-cit...   \n",
       "2  blackassign0003  https://insights.blackcoffer.com/internet-dema...   \n",
       "3  blackassign0004  https://insights.blackcoffer.com/rise-of-cyber...   \n",
       "4  blackassign0005  https://insights.blackcoffer.com/ott-platform-...   \n",
       "\n",
       "   Number_of_Sentences  Number_of_Words  Average_Sentence_Length  \\\n",
       "0                   77              620                 8.051948   \n",
       "1                   79              841                10.645570   \n",
       "2                   56              662                11.821429   \n",
       "3                   51              635                12.450980   \n",
       "4                   38              365                 9.605263   \n",
       "\n",
       "   Syllable_Count  Complex_Count  Percentage_of_Complex_words  Fog_Index  \\\n",
       "0            1228            521                     0.840323   3.556908   \n",
       "1            1953           1151                     1.368609   4.805671   \n",
       "2            1734           1210                     1.827795   5.459689   \n",
       "3            1585           1077                     1.696063   5.658817   \n",
       "4             852            471                     1.290411   4.358270   \n",
       "\n",
       "   Positive_Score  Negative_Score  Polarity_Score  Subjective_Score  \n",
       "0              33               5        0.736842          0.061290  \n",
       "1              58              31        0.303371          0.105826  \n",
       "2              37              23        0.233333          0.090634  \n",
       "3              36              71       -0.327103          0.168504  \n",
       "4              21               8        0.448276          0.079452  "
      ]
     },
     "execution_count": 29,
     "metadata": {},
     "output_type": "execute_result"
    }
   ],
   "source": [
    "final_df.head()"
   ]
  },
  {
   "cell_type": "code",
   "execution_count": 30,
   "id": "9d5b50ab",
   "metadata": {},
   "outputs": [
    {
     "data": {
      "text/plain": [
       "(89, 13)"
      ]
     },
     "execution_count": 30,
     "metadata": {},
     "output_type": "execute_result"
    }
   ],
   "source": [
    "final_df.shape"
   ]
  },
  {
   "cell_type": "code",
   "execution_count": 31,
   "id": "0cd241c9",
   "metadata": {},
   "outputs": [
    {
     "name": "stdout",
     "output_type": "stream",
     "text": [
      "DataFrame has been successfully converted and saved to 'C:\\Users\\STSC\\Desktop\\Data Analytics Project\\output_data.xlsx'\n"
     ]
    }
   ],
   "source": [
    "# convert the final dataframe to excel\n",
    "# Define the file path for the Excel file\n",
    "excel_file_path = r\"C:\\Users\\STSC\\Desktop\\Data Analytics Project\\output_data.xlsx\"\n",
    "\n",
    "# Convert the DataFrame to an Excel file\n",
    "final_df.to_excel(excel_file_path, index=False)\n",
    "\n",
    "print(f\"DataFrame has been successfully converted and saved to '{excel_file_path}'\")"
   ]
  },
  {
   "cell_type": "code",
   "execution_count": 32,
   "id": "fcecacdc",
   "metadata": {},
   "outputs": [],
   "source": [
    "sorted_df = final_df.sort_values('Polarity_Score')"
   ]
  },
  {
   "cell_type": "code",
   "execution_count": 33,
   "id": "e8e55686",
   "metadata": {},
   "outputs": [],
   "source": [
    "# top  postive article\n",
    "top_positive_df=sorted_df.tail(1)"
   ]
  },
  {
   "cell_type": "code",
   "execution_count": 34,
   "id": "165da11e",
   "metadata": {
    "scrolled": false
   },
   "outputs": [
    {
     "data": {
      "text/html": [
       "<div>\n",
       "<style scoped>\n",
       "    .dataframe tbody tr th:only-of-type {\n",
       "        vertical-align: middle;\n",
       "    }\n",
       "\n",
       "    .dataframe tbody tr th {\n",
       "        vertical-align: top;\n",
       "    }\n",
       "\n",
       "    .dataframe thead th {\n",
       "        text-align: right;\n",
       "    }\n",
       "</style>\n",
       "<table border=\"1\" class=\"dataframe\">\n",
       "  <thead>\n",
       "    <tr style=\"text-align: right;\">\n",
       "      <th></th>\n",
       "      <th>URL_ID</th>\n",
       "      <th>URL</th>\n",
       "      <th>Number_of_Sentences</th>\n",
       "      <th>Number_of_Words</th>\n",
       "      <th>Average_Sentence_Length</th>\n",
       "      <th>Syllable_Count</th>\n",
       "      <th>Complex_Count</th>\n",
       "      <th>Percentage_of_Complex_words</th>\n",
       "      <th>Fog_Index</th>\n",
       "      <th>Positive_Score</th>\n",
       "      <th>Negative_Score</th>\n",
       "      <th>Polarity_Score</th>\n",
       "      <th>Subjective_Score</th>\n",
       "    </tr>\n",
       "  </thead>\n",
       "  <tbody>\n",
       "    <tr>\n",
       "      <th>40</th>\n",
       "      <td>blackassign0046</td>\n",
       "      <td>https://insights.blackcoffer.com/all-you-need-...</td>\n",
       "      <td>54</td>\n",
       "      <td>508</td>\n",
       "      <td>9.407407</td>\n",
       "      <td>1117</td>\n",
       "      <td>642</td>\n",
       "      <td>1.26378</td>\n",
       "      <td>4.268475</td>\n",
       "      <td>26</td>\n",
       "      <td>0</td>\n",
       "      <td>1.0</td>\n",
       "      <td>0.051181</td>\n",
       "    </tr>\n",
       "  </tbody>\n",
       "</table>\n",
       "</div>"
      ],
      "text/plain": [
       "             URL_ID                                                URL  \\\n",
       "40  blackassign0046  https://insights.blackcoffer.com/all-you-need-...   \n",
       "\n",
       "    Number_of_Sentences  Number_of_Words  Average_Sentence_Length  \\\n",
       "40                   54              508                 9.407407   \n",
       "\n",
       "    Syllable_Count  Complex_Count  Percentage_of_Complex_words  Fog_Index  \\\n",
       "40            1117            642                      1.26378   4.268475   \n",
       "\n",
       "    Positive_Score  Negative_Score  Polarity_Score  Subjective_Score  \n",
       "40              26               0             1.0          0.051181  "
      ]
     },
     "execution_count": 34,
     "metadata": {},
     "output_type": "execute_result"
    }
   ],
   "source": [
    "top_positive_df"
   ]
  },
  {
   "cell_type": "code",
   "execution_count": 35,
   "id": "41fbc922",
   "metadata": {},
   "outputs": [],
   "source": [
    "index=top_positive_df.index"
   ]
  },
  {
   "cell_type": "code",
   "execution_count": 36,
   "id": "93894559",
   "metadata": {},
   "outputs": [],
   "source": [
    "l=[]\n",
    "\n",
    "count=0\n",
    "for key, value in BC.items():          # BC={A:[a,b,c]}\n",
    "    if count==index:\n",
    "        l.extend(value)\n",
    "        break\n",
    "    count+=1"
   ]
  },
  {
   "cell_type": "code",
   "execution_count": 37,
   "id": "d34e07c6",
   "metadata": {},
   "outputs": [],
   "source": [
    "sent=[]\n",
    "for i in l:\n",
    "    w = [[x for x in word_tokenize(sent)] for sent in sent_tokenize(i)]\n",
    "    x= sum(w,[])\n",
    "    sent.extend(x)\n",
    "    "
   ]
  },
  {
   "cell_type": "code",
   "execution_count": 38,
   "id": "9dd8679b",
   "metadata": {},
   "outputs": [],
   "source": [
    "tagged = nltk.pos_tag(sent)"
   ]
  },
  {
   "cell_type": "markdown",
   "id": "49a9c12c",
   "metadata": {},
   "source": [
    "Chunking"
   ]
  },
  {
   "cell_type": "code",
   "execution_count": 53,
   "id": "eea69129",
   "metadata": {},
   "outputs": [],
   "source": [
    "chunkstyle='''Chunk1:{<VB.?>+<DT|JJ.?|PRP.?>*<NN.*>+}\n",
    "    Chunk2:{<Chunk1><DT|JJ.?|PRP.?|JJ.?>*<NN.*>+} \n",
    "    '''\n",
    "chunkparser = nltk.RegexpParser(chunkstyle)\n",
    "chunked = chunkparser.parse(tagged)\n",
    "final_words=[]\n",
    "for subtree in chunked.subtrees():\n",
    "    if subtree.label() == 'Chunk1' or subtree.label() == 'Chunk2':\n",
    "        words=[word for word,_ in subtree.leaves() ]\n",
    "        final_words.extend(words)"
   ]
  },
  {
   "cell_type": "code",
   "execution_count": 56,
   "id": "a61c37e6",
   "metadata": {},
   "outputs": [],
   "source": [
    "final_words2 = [i for i in final_words if i not in stopwords]"
   ]
  },
  {
   "cell_type": "code",
   "execution_count": 57,
   "id": "45d69e5f",
   "metadata": {},
   "outputs": [
    {
     "name": "stdout",
     "output_type": "stream",
     "text": [
      "[('audience', 5), ('marketing', 5), ('’', 4), ('goods', 4), ('products', 3)]\n"
     ]
    }
   ],
   "source": [
    "fdist = nltk.FreqDist(final_words2)\n",
    "print(fdist.most_common(5))"
   ]
  },
  {
   "cell_type": "code",
   "execution_count": 58,
   "id": "c842d91c",
   "metadata": {
    "scrolled": true
   },
   "outputs": [
    {
     "name": "stdout",
     "output_type": "stream",
     "text": [
      "is a common term is the action promoting products including market research was working fine was a need is increasing day create awareness is a huge audience present online is a huge audience are a lot use the Internet reach any audience find something Let ’ s take a look does online marketing involves use Facebook have created companies promote your Knowledge Commerce products is a strategic marketing strategy maintain a specific audience — drive profitable consumer action is a marketing strategy attract potential clients retain existing clients use searches ’ re all set buy the products hear the word “ PPC search ads find similar ads is a kind sending emails inform the audience get great results running banner ads buys the stuff are no purchases sell your goods follows the terms ’ s a fantastic way reach new markets start their affiliate marketing career is a new trend have a strong following inspire people buy your goods including the nature provides a large client base have access visit your website advertise their company won ’ t have no impact read comments integrate social media tools use social media enhance their targeting have a better understanding generate exclusive deals expanding industry purchase goods increasing number internet marketing advertise their goods "
     ]
    }
   ],
   "source": [
    "for i in final_words:\n",
    "    print(''.join(i),end=\" \")"
   ]
  },
  {
   "cell_type": "code",
   "execution_count": 59,
   "id": "65350b1a",
   "metadata": {},
   "outputs": [],
   "source": [
    "# top negative article\n",
    "top_negative_df=sorted_df.head(1)"
   ]
  },
  {
   "cell_type": "code",
   "execution_count": 68,
   "id": "874d77e8",
   "metadata": {},
   "outputs": [
    {
     "data": {
      "text/html": [
       "<div>\n",
       "<style scoped>\n",
       "    .dataframe tbody tr th:only-of-type {\n",
       "        vertical-align: middle;\n",
       "    }\n",
       "\n",
       "    .dataframe tbody tr th {\n",
       "        vertical-align: top;\n",
       "    }\n",
       "\n",
       "    .dataframe thead th {\n",
       "        text-align: right;\n",
       "    }\n",
       "</style>\n",
       "<table border=\"1\" class=\"dataframe\">\n",
       "  <thead>\n",
       "    <tr style=\"text-align: right;\">\n",
       "      <th></th>\n",
       "      <th>URL_ID</th>\n",
       "      <th>URL</th>\n",
       "      <th>Number_of_Sentences</th>\n",
       "      <th>Number_of_Words</th>\n",
       "      <th>Average_Sentence_Length</th>\n",
       "      <th>Syllable_Count</th>\n",
       "      <th>Complex_Count</th>\n",
       "      <th>Percentage_of_Complex_words</th>\n",
       "      <th>Fog_Index</th>\n",
       "      <th>Positive_Score</th>\n",
       "      <th>Negative_Score</th>\n",
       "      <th>Polarity_Score</th>\n",
       "      <th>Subjective_Score</th>\n",
       "    </tr>\n",
       "  </thead>\n",
       "  <tbody>\n",
       "    <tr>\n",
       "      <th>85</th>\n",
       "      <td>blackassign0095</td>\n",
       "      <td>https://insights.blackcoffer.com/what-is-the-r...</td>\n",
       "      <td>30</td>\n",
       "      <td>362</td>\n",
       "      <td>12.066667</td>\n",
       "      <td>691</td>\n",
       "      <td>339</td>\n",
       "      <td>0.936464</td>\n",
       "      <td>5.201252</td>\n",
       "      <td>7</td>\n",
       "      <td>25</td>\n",
       "      <td>-0.5625</td>\n",
       "      <td>0.088398</td>\n",
       "    </tr>\n",
       "  </tbody>\n",
       "</table>\n",
       "</div>"
      ],
      "text/plain": [
       "             URL_ID                                                URL  \\\n",
       "85  blackassign0095  https://insights.blackcoffer.com/what-is-the-r...   \n",
       "\n",
       "    Number_of_Sentences  Number_of_Words  Average_Sentence_Length  \\\n",
       "85                   30              362                12.066667   \n",
       "\n",
       "    Syllable_Count  Complex_Count  Percentage_of_Complex_words  Fog_Index  \\\n",
       "85             691            339                     0.936464   5.201252   \n",
       "\n",
       "    Positive_Score  Negative_Score  Polarity_Score  Subjective_Score  \n",
       "85               7              25         -0.5625          0.088398  "
      ]
     },
     "execution_count": 68,
     "metadata": {},
     "output_type": "execute_result"
    }
   ],
   "source": [
    "top_negative_df"
   ]
  },
  {
   "cell_type": "code",
   "execution_count": 60,
   "id": "8e553a50",
   "metadata": {},
   "outputs": [],
   "source": [
    "index=top_negative_df.index"
   ]
  },
  {
   "cell_type": "code",
   "execution_count": 61,
   "id": "ef59507a",
   "metadata": {},
   "outputs": [],
   "source": [
    "l=[]\n",
    "\n",
    "count=0\n",
    "for key, value in BC.items():          # BC={A:[a,b,c]}\n",
    "    if count==index:\n",
    "        l.extend(value)\n",
    "        break\n",
    "    count+=1"
   ]
  },
  {
   "cell_type": "code",
   "execution_count": 62,
   "id": "2704a2d4",
   "metadata": {},
   "outputs": [],
   "source": [
    "sent=[]\n",
    "for i in l:\n",
    "    w = [[x for x in word_tokenize(sent)] for sent in sent_tokenize(i)]\n",
    "    x= sum(w,[])\n",
    "    sent.extend(x)"
   ]
  },
  {
   "cell_type": "code",
   "execution_count": 63,
   "id": "57ad1ab0",
   "metadata": {},
   "outputs": [],
   "source": [
    "tagged = nltk.pos_tag(sent)"
   ]
  },
  {
   "cell_type": "code",
   "execution_count": 64,
   "id": "ac6f7408",
   "metadata": {},
   "outputs": [],
   "source": [
    "chunkstyle='''Chunk1:{<VB.?>+<DT|JJ.?|PRP.?>*<NN.*>+}\n",
    "    Chunk2:{<Chunk1><DT|JJ.?|PRP.?|JJ.?>*<NN.*>+} \n",
    "    '''\n",
    "chunkparser = nltk.RegexpParser(chunkstyle)\n",
    "chunked = chunkparser.parse(tagged)\n",
    "final_words=[]\n",
    "for subtree in chunked.subtrees():\n",
    "    if subtree.label() == 'Chunk1' or subtree.label() == 'Chunk2':\n",
    "        words=[word for word,_ in subtree.leaves() ]\n",
    "        final_words.extend(words)"
   ]
  },
  {
   "cell_type": "code",
   "execution_count": 65,
   "id": "f8b30402",
   "metadata": {},
   "outputs": [],
   "source": [
    "final_words2 = [i for i in final_words if i not in stopwords]"
   ]
  },
  {
   "cell_type": "code",
   "execution_count": 66,
   "id": "c32af433",
   "metadata": {
    "scrolled": true
   },
   "outputs": [
    {
     "name": "stdout",
     "output_type": "stream",
     "text": [
      "[('COVID', 3), ('limit', 2), ('human', 2), ('interaction', 2), ('confirmed', 2)]\n"
     ]
    }
   ],
   "source": [
    "fdist = nltk.FreqDist(final_words2)\n",
    "print(fdist.most_common(5))"
   ]
  },
  {
   "cell_type": "code",
   "execution_count": 67,
   "id": "29b4519c",
   "metadata": {},
   "outputs": [
    {
     "name": "stdout",
     "output_type": "stream",
     "text": [
      "is COVID declared COVID Sanitizing hands wearing masks is social distancing limit human interaction various governments limit human interaction chose life ordered complete lockdown confirmed cases worldwide confirmed cases keep exploiting nature turn a blind eye are a result leave homes has improved this year posted an article titled “ COVID damaging the environment been an increase rising fears are using the COVID-19 crisis invade indigenous lands protected areas said ” alarming increase decreased food availability have reported such incidents has helped the environment "
     ]
    }
   ],
   "source": [
    "for i in final_words:\n",
    "    print(''.join(i),end=\" \")"
   ]
  }
 ],
 "metadata": {
  "kernelspec": {
   "display_name": "Python 3 (ipykernel)",
   "language": "python",
   "name": "python3"
  },
  "language_info": {
   "codemirror_mode": {
    "name": "ipython",
    "version": 3
   },
   "file_extension": ".py",
   "mimetype": "text/x-python",
   "name": "python",
   "nbconvert_exporter": "python",
   "pygments_lexer": "ipython3",
   "version": "3.11.4"
  }
 },
 "nbformat": 4,
 "nbformat_minor": 5
}
